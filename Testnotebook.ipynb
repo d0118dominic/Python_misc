{
 "cells": [
  {
   "cell_type": "code",
   "execution_count": 1,
   "metadata": {},
   "outputs": [],
   "source": [
    "import numpy as np\n",
    "import matplotlib.pyplot as plt\n",
    "import matplotlib.animation as an\n",
    "from mpl_toolkits import mplot3d\n",
    "from mpl_toolkits.mplot3d import Axes3D\n",
    "import sympy as sp\n",
    "\n"
   ]
  },
  {
   "cell_type": "code",
   "execution_count": 2,
   "metadata": {},
   "outputs": [],
   "source": [
    "x,y,z = sp.symbols('x y z', real = True)\n",
    "i,j,k = sp.symbols('i j k', real = True, positive = True)"
   ]
  },
  {
   "cell_type": "code",
   "execution_count": 4,
   "metadata": {},
   "outputs": [
    {
     "name": "stdout",
     "output_type": "stream",
     "text": [
      "Sine function coefficients:\n",
      "[3.61725592 1.34530968]\n",
      "Covariance of coefficients:\n",
      "[[ 5.61183559e-02 -8.68048817e-05]\n",
      " [-8.68048817e-05  1.11258526e-04]]\n"
     ]
    },
    {
     "data": {
      "image/png": "[encoded data removed]",
      "text/plain": [
       "<Figure size 432x288 with 1 Axes>"
      ]
     },
     "metadata": {
      "needs_background": "light"
     },
     "output_type": "display_data"
    }
   ],
   "source": [
    "import numpy as np\n",
    " \n",
    "# curve-fit() function imported from scipy\n",
    "from scipy.optimize import curve_fit\n",
    " \n",
    "from matplotlib import pyplot as plt\n",
    " \n",
    "# numpy.linspace with the given arguments\n",
    "# produce an array of 40 numbers between 0\n",
    "# and 10, both inclusive\n",
    "x = np.linspace(0, 10, num = 40)\n",
    " \n",
    " \n",
    "# y is another array which stores 3.45 times\n",
    "# the sine of (values in x) * 1.334.\n",
    "# The random.normal() draws random sample\n",
    "# from normal (Gaussian) distribution to make\n",
    "# them scatter across the base line\n",
    "y = 3.45 * np.sin(1.334 * x) + np.random.normal(size = 40)\n",
    " \n",
    "# Test function with coefficients as parameters\n",
    "def test(x, a, b):\n",
    "    return a * np.sin(b * x)\n",
    " \n",
    "# curve_fit() function takes the test-function\n",
    "# x-data and y-data as argument and returns\n",
    "# the coefficients a and b in param and\n",
    "# the estimated covariance of param in param_cov\n",
    "param, param_cov = curve_fit(test, x, y)\n",
    " \n",
    " \n",
    "print(\"Sine function coefficients:\")\n",
    "print(param)\n",
    "print(\"Covariance of coefficients:\")\n",
    "print(param_cov)\n",
    " \n",
    "# ans stores the new y-data according to\n",
    "# the coefficients given by curve-fit() function\n",
    "ans = (param[0]*(np.sin(param[1]*x)))\n",
    " \n",
    "'''Below 4 lines can be un-commented for plotting results\n",
    "using matplotlib as shown in the first example. '''\n",
    " \n",
    "plt.plot(x, y, 'o', color ='red', label =\"data\")\n",
    "plt.plot(x, ans, '--', color ='blue', label =\"optimized data\")\n",
    "plt.legend()\n",
    "plt.show()"
   ]
  },
  {
   "cell_type": "code",
   "execution_count": 5,
   "metadata": {},
   "outputs": [
    {
     "name": "stdout",
     "output_type": "stream",
     "text": [
      "[11 23 31 43 51]\n",
      "[ 2  4  6  8 10]\n",
      "[2.39789527 3.13549422 3.4339872  3.76120012 3.93182563]\n"
     ]
    }
   ],
   "source": [
    "x_data = np.array([11, 23, 31, 43, 51]) \n",
    "  \n",
    "# Points on Y-axis\n",
    "y_data = np.array([2, 4, 6, 8, 10])     \n",
    "  \n",
    "print(x_data)\n",
    "print(y_data)\n",
    "  \n",
    "# Taking log of x values\n",
    "xlog_data = np.log(x_data)             \n",
    "  \n",
    "print(xlog_data)"
   ]
  },
  {
   "cell_type": "code",
   "execution_count": 7,
   "metadata": {},
   "outputs": [
    {
     "name": "stdout",
     "output_type": "stream",
     "text": [
      "[  5.04044702 -10.79517517]\n"
     ]
    }
   ],
   "source": [
    "# Given log values of x , y as input\n",
    "curve = np.polyfit(xlog_data, y_data, 1)\n",
    "  \n",
    "print(curve)"
   ]
  },
  {
   "cell_type": "code",
   "execution_count": 9,
   "metadata": {},
   "outputs": [
    {
     "name": "stdout",
     "output_type": "stream",
     "text": [
      "[1.29539217 5.01289085 6.51729551 8.16644858 9.02640119]\n"
     ]
    }
   ],
   "source": [
    "y = 5.04 * xlog_data - 10.79  \n",
    "  \n",
    "print(y)"
   ]
  },
  {
   "cell_type": "code",
   "execution_count": 10,
   "metadata": {},
   "outputs": [
    {
     "data": {
      "text/plain": [
       "[<matplotlib.lines.Line2D at 0x7fb44c4e5a60>]"
      ]
     },
     "execution_count": 10,
     "metadata": {},
     "output_type": "execute_result"
    },
    {
     "data": {
      "image/png": "[encoded data removed]",
      "text/plain": [
       "<Figure size 432x288 with 1 Axes>"
      ]
     },
     "metadata": {
      "needs_background": "light"
     },
     "output_type": "display_data"
    }
   ],
   "source": [
    "plt.plot(xlog_data,y_data)\n",
    "plt.plot(xlog_data, y)"
   ]
  },
  {
   "cell_type": "code",
   "execution_count": 11,
   "metadata": {},
   "outputs": [
    {
     "name": "stdout",
     "output_type": "stream",
     "text": [
      "[11 19 31 39 51]\n",
      "[  5   8  32  84 110]\n"
     ]
    }
   ],
   "source": [
    "x_data = np.array([11, 19, 31, 39, 51])\n",
    "print(x_data)\n",
    "\n",
    "y_data = np.array([5, 8, 32, 84, 110])\n",
    "print(y_data)\n"
   ]
  },
  {
   "cell_type": "code",
   "execution_count": 13,
   "metadata": {},
   "outputs": [
    {
     "name": "stdout",
     "output_type": "stream",
     "text": [
      "[1.60943791 2.07944154 3.4657359  4.4308168  4.70048037]\n",
      "[0.08493513 0.69214169]\n"
     ]
    }
   ],
   "source": [
    "ylog_data = np.log(y_data)\n",
    "print(ylog_data)\n",
    "\n",
    "curve_fit = np.polyfit(x_data, ylog_data, 1)\n",
    "\n",
    "print(curve_fit)\n"
   ]
  },
  {
   "cell_type": "code",
   "execution_count": 14,
   "metadata": {},
   "outputs": [
    {
     "name": "stdout",
     "output_type": "stream",
     "text": [
      "[  5.07841904  10.02417825  27.79899864  54.8718244  152.17025611]\n"
     ]
    }
   ],
   "source": [
    "y = np.exp(0.69) * np.exp(0.085*x_data)\n",
    "\n",
    "print(y)\n"
   ]
  },
  {
   "cell_type": "code",
   "execution_count": 15,
   "metadata": {},
   "outputs": [
    {
     "data": {
      "text/plain": [
       "[<matplotlib.lines.Line2D at 0x7fb44c45ba30>]"
      ]
     },
     "execution_count": 15,
     "metadata": {},
     "output_type": "execute_result"
    },
    {
     "data": {
      "image/png": "[encoded data removed]",
      "text/plain": [
       "<Figure size 432x288 with 1 Axes>"
      ]
     },
     "metadata": {
      "needs_background": "light"
     },
     "output_type": "display_data"
    }
   ],
   "source": [
    "plt.plot(x_data, y_data)\n",
    "  \n",
    "# best fit in orange\n",
    "plt.plot(x_data, y)"
   ]
  },
  {
   "cell_type": "code",
   "execution_count": null,
   "metadata": {},
   "outputs": [],
   "source": []
  },
  {
   "cell_type": "code",
   "execution_count": null,
   "metadata": {},
   "outputs": [],
   "source": []
  },
  {
   "cell_type": "code",
   "execution_count": null,
   "metadata": {},
   "outputs": [],
   "source": []
  },
  {
   "cell_type": "code",
   "execution_count": null,
   "metadata": {},
   "outputs": [],
   "source": []
  }
 ],
 "metadata": {
  "interpreter": {
   "hash": "31f2aee4e71d21fbe5cf8b01ff0e069b9275f58929596ceb00d14d90e3e16cd6"
  },
  "kernelspec": {
   "display_name": "Python 3.8.5 64-bit",
   "name": "python3"
  },
  "language_info": {
   "codemirror_mode": {
    "name": "ipython",
    "version": 3
   },
   "file_extension": ".py",
   "mimetype": "text/x-python",
   "name": "python",
   "nbconvert_exporter": "python",
   "pygments_lexer": "ipython3",
   "version": "3.8.10"
  },
  "metadata": {
   "interpreter": {
    "hash": "31f2aee4e71d21fbe5cf8b01ff0e069b9275f58929596ceb00d14d90e3e16cd6"
   }
  },
  "orig_nbformat": 2
 },
 "nbformat": 4,
 "nbformat_minor": 2
}
